{
 "cells": [
  {
   "cell_type": "markdown",
   "metadata": {},
   "source": [
    "# Transit Activity\n",
    "\n",
    "#### By [Dr. Daniel Apai](http://apai.space) and [Dr. Ben Rackham](http://rackham.space)\n",
    "\n",
    "In  this  activity  we  will  explore  how  some  extrasolar  planets  can  be  discovered  and characterized by precisely measuring the brightness of their host stars. When planets pass in front of their host stars (as seen from Earth) they cover part of the host star’s disk — making it look  a  tiny  bit  fainter.  These  events  are  called planetary  transits.  The  slight  dimming  has  a characteristic shape and Project EDEN searches for such events to find the planets that cause them.  NASA’s  Kepler  Space  Observatory  has  used  exoplanet  transit  events  to  identify  over 4,000 new extrasolar planets – the largest bounty of new worlds ever!\n",
    "\n",
    "We will explore how transits can be analyzed — not only to identify the presence of a planet, but  also  to  learn  about  its  basic  properties:  size,  orbital  period,  and  —  with  some  additional information — density and likely composition.\n",
    "\n",
    "# First let’s clarify a few key concepts:\n",
    "\n",
    "Lightcurve: a figure that shows the brightness of an object (here the host star) in time. For a typical star, this would be a flat curve: the star is always the same brightness.\n",
    "\n",
    "Transit Event: an event during which a planet passes in front of its host star (as seen from Earth), blocking a fraction of light from star and causing it to appear dimmer. \n",
    "\n",
    "Transit Depth:the maximum brightness difference between the in-transit and out-of-transit brightness of the star.\n",
    "\n",
    "Ingress: The first stage of the transit, during which only part of the planet is only obscuring the star.\n",
    "\n",
    "Egress: The final stage of the transit, during which only part of the planet is only obscuring the star.\n",
    "\n",
   ]
  },{
   "cell_type": "markdown",
   "metadata": {},
   "source": [
    "### Interpreting a Lightcurve with a Transit\n",
    "\n",
    "\n",
    "Check Figure 1, estimate the transit depth and identify the ingress/egress stages!\n",
    "\n",
    "\n",
    "\n",
    "Orbital period: The orbital period is simply the time that it takes for a planet to complete an orbit. For Earth this is one year, but some planets have much shorter and some planets have much longer orbital periods. Once the orbital period of a planet and the mass of its host star are known, it is possible to calculate what is the radius of its orbit –in other words, how far is it from its host star.\n",
    "How do you think the orbital period can be measured for a transiting planet from its host star’s lightcurve?\n",
    "\n",
    "# The Size of a Planet \n",
    " The larger the planet the larger fraction of its host star it can cover. A planet as large as its host star (an unrealistic example) could cover the entire star from view. In reality, most planets are very smaller, compared to even the smallest stars. Therefore, they only cover part a small fraction of the host star’s disk.\n",
    "\n",
    "\n",
    "### Getting started\n",
    "\n",
    "Let's start by importing some necessary Python packages."
   ]
  },
  {
   "cell_type": "code",
   "execution_count": 8,
   "metadata": {},
   "outputs": [],
   "source": [
    "# Import some packages for displaying results\n",
    "%matplotlib inline\n",
    "# from IPython.display import display\n",
    "# from ipywidgets import interactive\n",
    "\n",
    "# Import standard Python science packages\n",
    "import astropy.units as u\n",
    "import matplotlib.pyplot as plt\n",
    "import numpy as np\n",
    "\n",
    "# Import the transit modeling package\n",
    "import batman"
   ]
  },
  {
   "cell_type": "markdown",
   "metadata": {},
   "source": [
    "### The Transit of HD209458\n",
    "\n",
    "Now let's simulate the light curve of an actual transiting exoplanet and see if we can determine its size!\n",
    "\n",
    "First, we will define the time points we are interested in."
   ]
  },
  {
   "cell_type": "code",
   "execution_count": 9,
   "metadata": {},
   "outputs": [],
   "source": [
    "t = np.linspace(-0.025, 0.025, 100) # Creates an array of 100 points \n",
    "                                    # evenly spaced between -0.025 and 0.025 (arbitrary units)"
   ]
  },
  {
   "cell_type": "markdown",
   "metadata": {},
   "source": [
    "Then we will initialize the transit model and its parameters. The parameters provided below describe the orbit of the planet and its orientation, which affect the exact shape of the transit and how symmetric it is, but not its depth. "
   ]
  },
  {
   "cell_type": "code",
   "execution_count": 10,
   "metadata": {},
   "outputs": [],
   "source": [
    "params = batman.TransitParams()\n",
    "params.t0 = 0.                                   #time of inferior conjunction\n",
    "params.per = 1.                                  #orbital period\n",
    "params.rp = ((1.0*u.Rjup)/(1.0*u.Rsun)).si.value #planet radius (in units of stellar radii)\n",
    "params.a = 15.                                   #semi-major axis (in units of stellar radii)\n",
    "params.inc = 87.                                 #orbital inclination (in degrees)\n",
    "params.ecc = 0.                                  #eccentricity\n",
    "params.w = 90.                                   #longitude of periastron (in degrees)\n",
    "params.u = [0.1, 0.3]                            #limb darkening coefficients [u1, u2]\n",
    "params.limb_dark = \"quadratic\"                   #limb darkening model\n",
    "m = batman.TransitModel(params, t)    #initializes model"
   ]
  },
  {
   "cell_type": "markdown",
   "metadata": {},
   "source": [
    "And finally, we will calculate the light curve."
   ]
  },
  {
   "cell_type": "code",
   "execution_count": 11,
   "metadata": {},
   "outputs": [],
   "source": [
    "flux = m.light_curve(params)          #calculates light curve"
   ]
  },
  {
   "cell_type": "markdown",
   "metadata": {},
   "source": [
    "Now let's look at the results."
   ]
  },
  {
   "cell_type": "code",
   "execution_count": 12,
   "metadata": {},
   "outputs": [
    {
     "data": {
      "text/plain": [
       "Text(0, 0.5, 'Star brightness (%)')"
      ]
     },
     "execution_count": 12,
     "metadata": {},
     "output_type": "execute_result"
    },
    {
     "data": {
      "image/png": "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\n",
      "text/plain": [
       "<Figure size 432x288 with 1 Axes>"
      ]
     },
     "metadata": {
      "needs_background": "light"
     },
     "output_type": "display_data"
    }
   ],
   "source": [
    "plt.plot(t, flux*100, label=None)\n",
    "plt.title(\"Transit of a Hot Jupiter\")\n",
    "# plt.legend(loc=3)\n",
    "plt.xlabel(\"Orbital phase\")\n",
    "plt.ylabel(\"Star brightness (%)\")"
   ]
  },
  {
   "cell_type": "code",
   "execution_count": null,
   "metadata": {},
   "outputs": [],
   "source": []
  }
 ],
 "metadata": {
  "kernelspec": {
   "display_name": "Python 3",
   "language": "python",
   "name": "python3"
  },
  "language_info": {
   "codemirror_mode": {
    "name": "ipython",
    "version": 3
   },
   "file_extension": ".py",
   "mimetype": "text/x-python",
   "name": "python",
   "nbconvert_exporter": "python",
   "pygments_lexer": "ipython3",
   "version": "3.7.2"
  }
 },
 "nbformat": 4,
 "nbformat_minor": 2
}
