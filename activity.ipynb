{
 "cells": [
  {
   "cell_type": "markdown",
   "metadata": {},
   "source": [
    "# Transit Activity\n",
    "\n",
    "#### By Daniel Apai and [Ben Rackham](http://rackham.space)\n",
    "\n",
    "### In this activity\n",
    "\n",
    "The purspoe of this activity is to introduce how we determine exoplanet radii and oribital periods from observations of their transits.\n",
    "\n",
    "### Getting started\n",
    "\n",
    "Let's start by importing some necessary Python packages."
   ]
  }
 ],
 "metadata": {
  "kernelspec": {
   "display_name": "Python 3",
   "language": "python",
   "name": "python3"
  },
  "language_info": {
   "codemirror_mode": {
    "name": "ipython",
    "version": 3
   },
   "file_extension": ".py",
   "mimetype": "text/x-python",
   "name": "python",
   "nbconvert_exporter": "python",
   "pygments_lexer": "ipython3",
   "version": "3.7.1"
  }
 },
 "nbformat": 4,
 "nbformat_minor": 2
}
