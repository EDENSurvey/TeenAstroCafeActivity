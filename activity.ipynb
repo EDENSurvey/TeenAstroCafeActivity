{
 "cells": [
  {
   "cell_type": "markdown",
   "metadata": {},
   "source": [
    "# Lightcurves of Transiting Exoplanets\n",
    "\n",
    "#### By [Dr. Daniel Apai](http://apai.space) and [Dr. Ben Rackham](http://rackham.space)\n",
    "\n",
    "# 1. Introduction\n",
    "\n",
    "In  this  activity  we  will  explore  how  some  extrasolar  planets  can  be  discovered  and characterized by precisely measuring the brightness of their host stars. When planets pass in front of their host stars (as seen from Earth) they cover part of the host star’s disk — making it look  a  tiny  bit  fainter.  These  events  are  called **planetary  transits**.  The  slight  dimming  has  a characteristic shape and Project EDEN searches for such events to find the planets that cause them.  NASA’s  Kepler  Space  Observatory  has  used  exoplanet  transit  events  to  identify  over 4,000 new extrasolar planets – the largest bounty of new worlds ever!\n",
    "\n",
    "We will explore how transits can be analyzed — not only to identify the presence of a planet, but  also  to  learn  about  its  basic  properties:  size,  orbital  period,  and  —  with  some  additional information — density and likely composition.\n",
    "\n",
    "## First let’s clarify a few key concepts:\n",
    "\n",
    "**Lightcurve:** a figure that shows the brightness of an object (here the host star) over time. For a typical star, this would be a flat line: the star is always the same brightness.\n",
    "\n",
    "**Transit Event:** an event during which a planet passes in front of its host star (as seen from Earth), blocking a fraction of light from star and causing it to appear dimmer. \n",
    "\n",
    "**Transit Depth:** the maximum brightness difference between the in-transit and out-of-transit brightness of the star.\n",
    "\n",
    "**Ingress:** The first stage of the transit, during which only part of the planet is only obscuring the star.\n",
    "\n",
    "**Egress:** The final stage of the transit, during which only part of the planet is only obscuring the star."
   ]
  },
  {
   "cell_type": "markdown",
   "metadata": {},
   "source": [
    "# 2. Interpreting a Lightcurve with a Transit\n",
    "\n",
    "In this activity, we will use the Python package `batman` to simulate transit lightcurves.\n",
    "\n",
    "Let's start by importing some necessary Python packages.\n",
    "\n",
    "To do so, highlight the cell below and press `Shift+Enter` to run the code. This is also how we will run all following snippets of code throughout this exercise.\n",
    "\n",
    "In each of the code cells below, anything following the the `#` sign is a comment. It is meant to help you read the code, but it is not read by the computer."
   ]
  },
  {
   "cell_type": "code",
   "execution_count": null,
   "metadata": {},
   "outputs": [],
   "source": [
    "# Import some packages for displaying results\n",
    "%matplotlib inline\n",
    "import matplotlib.pyplot as plt\n",
    "from IPython.display import display\n",
    "from ipywidgets import interactive\n",
    "\n",
    "# Import standard Python science packages\n",
    "import astropy.units as u\n",
    "import numpy as np\n",
    "\n",
    "# Import the transit modeling package\n",
    "import batman"
   ]
  },
  {
   "cell_type": "markdown",
   "metadata": {},
   "source": [
    "Run the cell below to adjust the appearance of the figures we will plot later in this exercise."
   ]
  },
  {
   "cell_type": "code",
   "execution_count": null,
   "metadata": {},
   "outputs": [],
   "source": [
    "# Set the appearance of the figures\n",
    "plt.style.use('ggplot')\n",
    "plt.rcParams['figure.figsize'] = (12, 8)\n",
    "plt.rcParams['font.size'] = 18"
   ]
  },
  {
   "cell_type": "markdown",
   "metadata": {},
   "source": [
    "To better understand how to use the `batman` package to model transit lightcurves, let's make an example lightcurve of a **hot Jupiter**: a Jupiter-sized exoplanet on a very short orbit.\n",
    "\n",
    "First, we will initialize a `params` object to hold the orbital parameters of our example planet. The parameters provided below describe the orbit of the planet and its orientation, which affect the exact shape of the transit and how symmetric it is."
   ]
  },
  {
   "cell_type": "code",
   "execution_count": null,
   "metadata": {},
   "outputs": [],
   "source": [
    "params = batman.TransitParams()                  # Creates a new params object\n",
    "params.t0 = 0.                                   # time of inferior conjunction\n",
    "params.per = 3.                                  # orbital period (days)\n",
    "params.rp = ((1.0*u.Rjup)/(1.0*u.Rsun)).si.value # planet radius (in units of stellar radii)\n",
    "params.a = 15.                                   # semi-major axis (in units of stellar radii)\n",
    "params.inc = 87.                                 # orbital inclination (in degrees)\n",
    "params.ecc = 0.                                  # eccentricity\n",
    "params.w = 90.                                   # longitude of periastron (in degrees)\n",
    "params.u = [0.1, 0.1]                            # limb darkening coefficients [u1, u2]\n",
    "params.limb_dark = \"quadratic\"                   # limb darkening model"
   ]
  },
  {
   "cell_type": "markdown",
   "metadata": {},
   "source": [
    "Now let's define the time points we're interested in and generate a model of the transit event."
   ]
  },
  {
   "cell_type": "code",
   "execution_count": null,
   "metadata": {},
   "outputs": [],
   "source": [
    "time_1 = np.linspace(-0.025, 0.025, 1000)*params.per # Creates an array of 1000 points \n",
    "                                                     # near the transit time\n",
    "model_1 = batman.TransitModel(params, time_1)        # Creates the model"
   ]
  },
  {
   "cell_type": "markdown",
   "metadata": {},
   "source": [
    "And finally, we will calculate the light curve."
   ]
  },
  {
   "cell_type": "code",
   "execution_count": null,
   "metadata": {},
   "outputs": [],
   "source": [
    "flux_1 = model_1.light_curve(params) # Calculates the light curve"
   ]
  },
  {
   "cell_type": "markdown",
   "metadata": {},
   "source": [
    "Now let's look at the results."
   ]
  },
  {
   "cell_type": "code",
   "execution_count": null,
   "metadata": {},
   "outputs": [],
   "source": [
    "plt.figure()                                            # Makes a new figure\n",
    "plt.plot(time_1*24, flux_1)\n",
    "plt.title(\"Figure 1: Example Transit of a Hot Jupiter\")\n",
    "plt.xlabel(\"Hours from mid-transit\")\n",
    "plt.ylabel(\"Star brightness (normalized)\")\n",
    "plt.show()"
   ]
  },
  {
   "cell_type": "markdown",
   "metadata": {},
   "source": [
    "##### Question 1: Check Figure 1 above. What is your estimate the transit depth? Approximately how long are the ingress/egress stages?\n",
    "\n",
    "# 3. Determining the Orbital Period\n",
    "\n",
    "The **orbital period** is simply the time that it takes for a planet to complete an orbit. For Earth this is one year, but some planets have much shorter and some planets have much longer orbital periods. Once the orbital period of a planet and the mass of its host star are known, it is possible to calculate the radius of its orbit—in other words, how far is it from its host star.\n",
    "\n",
    "##### Question 2: How do you think the orbital period can be measured for a transiting planet from its host star’s lightcurve?\n",
    "\n",
    "Now let's look at an example of a lightcurve with multiple transits of the same planet.  We'll use the same hot Jupiter parameters as before, but we'll define a new time array, `time_2`, which covers a longer time period so that we can visualize multiple transits."
   ]
  },
  {
   "cell_type": "code",
   "execution_count": null,
   "metadata": {},
   "outputs": [],
   "source": [
    "time_2 = np.linspace(-2.5, 2.5, 1000)*params.per\n",
    "model_2 = batman.TransitModel(params, time_2)\n",
    "flux_2 = model_2.light_curve(params)"
   ]
  },
  {
   "cell_type": "markdown",
   "metadata": {},
   "source": [
    "Now we'll plot it."
   ]
  },
  {
   "cell_type": "code",
   "execution_count": null,
   "metadata": {},
   "outputs": [],
   "source": [
    "plt.figure()\n",
    "plt.plot(time_2, flux_2)\n",
    "plt.title(\"Figure 2: Multiple Transits of a Hot Jupiter\")\n",
    "plt.xlabel(\"Days from mid-transit\")\n",
    "plt.ylabel(\"Star brightness (normalized)\")\n",
    "plt.show()"
   ]
  },
  {
   "cell_type": "markdown",
   "metadata": {},
   "source": [
    "Now let's take a look at what transit lightcurves look like for planets with different orbital periods.\n",
    "\n",
    "Run the code in the cell below to generate an interactive version of the transit model."
   ]
  },
  {
   "cell_type": "code",
   "execution_count": null,
   "metadata": {},
   "outputs": [],
   "source": [
    "def transit_model_1(period):\n",
    "    \"\"\"\n",
    "    Function for interactive transit modeling\n",
    "    \"\"\"\n",
    "    # Parameters of planet model\n",
    "    params = batman.TransitParams()\n",
    "    params.t0 = 0.                                   # time of inferior conjunction\n",
    "    params.per = period                                  # orbital period (days)\n",
    "    params.rp = ((1.0*u.Rjup)/(1.203*u.Rsun)).si.value # planet radius (in units of stellar radii)\n",
    "    params.a = 15.                              # semi-major axis (in units of stellar radii)\n",
    "    params.inc = 87.                                 # orbital inclination (in degrees)\n",
    "    params.ecc = 0.                                  # eccentricity\n",
    "    params.w = 90.                                   # longitude of periastron (in degrees)\n",
    "    params.u = [0.1, 0.1]                            # limb darkening coefficients [u1, u2]\n",
    "    params.limb_dark = \"quadratic\"                   # limb darkening model\n",
    "\n",
    "    # Defining the timeframe and calculating flux\n",
    "    time = np.linspace(-1, 1, 10000)*6        # Creates an array of 10000 points \n",
    "                                              # over a roughly 12-day period\n",
    "    model = batman.TransitModel(params, time)\n",
    "    flux_model = model.light_curve(params)\n",
    "\n",
    "    # Plotting results\n",
    "    plt.figure()\n",
    "    plt.plot(time, flux_model, 'r-')\n",
    "    plt.title(\"Figure 3: Multiple Transits of a Hot Jupiter with a {:0.1f}-day Period\".format(params.per))\n",
    "    plt.xlabel(\"Days from mid-transit\")\n",
    "    plt.ylabel(\"Star brightness (normalized)\")\n",
    "    plt.show()\n",
    "\n",
    "print('Using the slider below, vary the orbital period (in units of days):')\n",
    "interactive_plot = interactive(transit_model_1, period=(0.5, 5, 0.1))\n",
    "display(interactive_plot)"
   ]
  },
  {
   "cell_type": "markdown",
   "metadata": {
    "collapsed": true
   },
   "source": [
    "##### Question 3: Is it easier to find transiting exoplanets with shorter or longer orbital periods?  Why?"
   ]
  },
  {
   "cell_type": "markdown",
   "metadata": {},
   "source": [
    "# 4. Determining the Size of a Planet \n",
    "\n",
    "The larger the planet the larger the fraction of its host star that it can cover. A planet as large as its host star (an unrealistic example) could cover the entire star from view. In reality, most planets are very smaller, compared  to even the smallest stars. Therefore, they only cover part a small fraction of the host star’s disk.\n",
    "\n",
    "Run the code below to draw a view of a planetary transit as seen from Earth."
   ]
  },
  {
   "cell_type": "code",
   "execution_count": null,
   "metadata": {},
   "outputs": [],
   "source": [
    "# Planet and star parameters\n",
    "m_planet = 0.01\n",
    "m_star = 1.\n",
    "r_planet = 0.2\n",
    "r_star = 1.\n",
    "\n",
    "# Plotting values\n",
    "fig, ax = plt.subplots(figsize=(8, 8))\n",
    "star = plt.Circle((0,0), r_star)\n",
    "ax.add_artist(star)\n",
    "ax.plot([0, r_star], [0, 0], 'k-')\n",
    "ax.text(r_star/2., 0, '$R_{s}$', va='top', ha='center')\n",
    "planet = plt.Circle((-0.35, 0.35), r_planet, color='white')\n",
    "ax.add_artist(planet)\n",
    "ax.plot([-0.35, -0.35+r_planet], [0.35, 0.35], 'k-')\n",
    "ax.text(-0.35+r_planet/2., 0.35, '$R_{p}$', va='top', ha='center')\n",
    "ax.set_xlim(-r_star, r_star)\n",
    "ax.set_ylim(-r_star, r_star)\n",
    "plt.axis('off')\n",
    "plt.show()"
   ]
  },
  {
   "cell_type": "markdown",
   "metadata": {},
   "source": [
    "The circles represent the star and the planet. The radius of the star ($R_{*}$) and the radius of the planet ($R_{p}$) are shown on the figure. The mass of the star is $M_{*}$ and the mass of the planet is $M_{p}$.\n",
    "\n",
    "*Modify the code above and re-run the cell to plot results for different values of `m_planet`, `m_star`, `r_planet`, and `r_star`.*\n",
    "\n",
    "*Discuss with your partner which factors influence the transit depth.*\n",
    "\n",
    "#### Question 4: Which of the following formulae may describe best the transit depth and why?\n",
    "\n",
    "**A)**  $D = (M_{*}^{2} R_{*}) / (M_{p}^{2} R_{p})$ \n",
    "\n",
    "**B)**  $D = R_{*} / R_{p}$\n",
    "\n",
    "**C)**  $D = M_{*} / M_{p}$ \n",
    "\n",
    "**D)**  $D = R_{p}^{2} / R_{*}^{2}$ "
   ]
  },
  {
   "cell_type": "markdown",
   "metadata": {},
   "source": [
    "# 5. The Transit of HD 209458 b\n",
    "\n",
    "Now let's figure out the size of an actual transiting exoplanet!\n",
    "\n",
    "Run the code in the cell below to plot an observed transit lightcurve of the exoplanet HD 209458 b."
   ]
  },
  {
   "cell_type": "code",
   "execution_count": null,
   "metadata": {},
   "outputs": [],
   "source": [
    "# Loading observed data\n",
    "time_obs, flux_obs = np.loadtxt('HD209458b.dat', unpack=True)\n",
    "\n",
    "# Plotting results\n",
    "plt.figure()\n",
    "plt.errorbar(time_obs, flux_obs, 0.001, marker='o', ls='', color='b', label='Observed')\n",
    "plt.title(\"Figure 4: Observations of HD 209458 b\")\n",
    "plt.legend(loc=4)\n",
    "plt.xlabel(\"Days from mid-transit\")\n",
    "plt.ylabel(\"Star brightness (normalized)\")\n",
    "plt.show()"
   ]
  },
  {
   "cell_type": "markdown",
   "metadata": {},
   "source": [
    "The lightcurve shows the exoplanet transit, but it also displays scatter due to noise sources that are inherent in any observation.  We will fit different models against these noisy data to make our best estimate of the planet's radius.\n",
    "\n",
    "Run the code in the cell below to generate a new interactive version of the transit model."
   ]
  },
  {
   "cell_type": "code",
   "execution_count": null,
   "metadata": {},
   "outputs": [],
   "source": [
    "def transit_model_2(radius):\n",
    "    \"\"\"\n",
    "    Function for interactive transit modeling\n",
    "    \"\"\"\n",
    "    # Parameters of planet model\n",
    "    rp = ((radius*u.Rjup)/(1.203*u.Rsun)).si.value\n",
    "    params = batman.TransitParams()\n",
    "    params.t0 = 0.                                 # time of inferior conjunction\n",
    "    params.per = 3.                                # orbital period (days)\n",
    "    params.rp =  rp                                # planet radius (in units of stellar radii)\n",
    "    params.a = 15.                                 # semi-major axis (in units of stellar radii)\n",
    "    params.inc = 87.                               # orbital inclination (in degrees)\n",
    "    params.ecc = 0.                                # eccentricity\n",
    "    params.w = 90.                                 # longitude of periastron (in degrees)\n",
    "    params.u = [0.1, 0.1]                          # limb darkening coefficients [u1, u2]\n",
    "    params.limb_dark = \"quadratic\"                 # limb darkening model\n",
    "\n",
    "    # Defining the timeframe and calculating flux\n",
    "    time = np.linspace(-0.025, 0.025, 100)*params.per # Creates an array of 100 points \n",
    "                                                      # near the transit time\n",
    "    model = batman.TransitModel(params, time)            # Initializes model\n",
    "    flux_model = model.light_curve(params)            # Calculates light curve\n",
    "\n",
    "    # Loading observed data\n",
    "    time_obs, flux_obs = np.loadtxt('HD209458b.dat', unpack=True)\n",
    "\n",
    "    # Plotting results\n",
    "    plt.figure()\n",
    "    plt.errorbar(time_obs, flux_obs, 0.001, marker='o', ls='', color='b', label='Observed')\n",
    "    plt.plot(time, flux_model, 'r-', label='Model')\n",
    "    plt.title(\"Figure 5: HD 209458 b\")\n",
    "    plt.legend(loc=4)\n",
    "    plt.xlabel(\"Days from mid-transit\")\n",
    "    plt.ylabel(\"Star brightness (normalized)\")\n",
    "    plt.show()\n",
    "\n",
    "print('Using the slider below, vary the exoplanet radius (in units of Jupiter radii)' + \n",
    "      ' to find the best model to match the data:')\n",
    "interactive_plot = interactive(transit_model_2, radius=(0.1, 2, 0.1))\n",
    "display(interactive_plot)"
   ]
  },
  {
   "cell_type": "markdown",
   "metadata": {},
   "source": [
    "##### Question 5: What is the best-fit radius for HD 209458 b? "
   ]
  },
  {
   "cell_type": "markdown",
   "metadata": {
    "collapsed": true
   },
   "source": [
    "# 6. Detecting Transits of Earth-sized Exoplanets\n",
    "\n",
    "In this final exercise, we will explore how we can detect transits of exoplanets the size of Earth.\n",
    "\n",
    "Run the code below to generate an interactive verision of the transit model that will let you vary the both radius of the planet ($R_{p}$) and the radius of the star ($R_{s}$). Each time you change a parameter, it will show you the true transit model and make a new simulated observational dataset."
   ]
  },
  {
   "cell_type": "code",
   "execution_count": null,
   "metadata": {},
   "outputs": [],
   "source": [
    "def transit_model_3(Rp, Rs):\n",
    "    \"\"\"\n",
    "    Function for interactive transit modeling\n",
    "    \"\"\"\n",
    "    # Parameters of planet model\n",
    "    params = batman.TransitParams()\n",
    "    params.t0 = 0.                                   # time of inferior conjunction\n",
    "    params.per = 3.                                  # orbital period (days)\n",
    "    params.rp = ((Rp*u.earthRad)/(Rs*u.Rsun)).si.value # planet radius (in units of stellar radii)\n",
    "    params.a = 15.                              # semi-major axis (in units of stellar radii)\n",
    "    params.inc = 87.                                 # orbital inclination (in degrees)\n",
    "    params.ecc = 0.                                  # eccentricity\n",
    "    params.w = 90.                                   # longitude of periastron (in degrees)\n",
    "    params.u = [0.1, 0.1]                            # limb darkening coefficients [u1, u2]\n",
    "    params.limb_dark = \"quadratic\"                   # limb darkening model\n",
    "\n",
    "    # Defining the timeframe and calculating flux\n",
    "    time = np.linspace(-0.025, 0.025, 100)*params.per # Creates an array of 100 points \n",
    "                                                      # near the transit time\n",
    "    model = batman.TransitModel(params, time)         # Initializes model\n",
    "    flux_model = model.light_curve(params)            # Calculates light curve\n",
    "    noise = np.random.normal(0, 0.001, flux_model.shape)\n",
    "    flux_obs = flux_model + noise\n",
    "\n",
    "    # Plotting results\n",
    "    plt.figure()\n",
    "    plt.errorbar(time, flux_obs, 0.001, marker='o', ls='', color='b', label='Observed')\n",
    "    plt.plot(time, flux_model, 'r-', label='Model')\n",
    "    plt.title(\"Figure 6: Transit of a {:0.1f}-Earth-radius planet before a {:0.1f}-Sun-radius star\".format(Rp, Rs))\n",
    "    plt.legend(loc=4)\n",
    "    plt.xlabel(\"Days from mid-transit\")\n",
    "    plt.ylabel(\"Star brightness (normalized)\")\n",
    "    plt.show()\n",
    "\n",
    "print('Using the slider below, vary the exoplanet radius (in units of Earth radii)' + \n",
    "      ' and the star radius (in units of solar radii):')\n",
    "interactive_plot = interactive(transit_model_3, Rp=(0.5, 10, 0.5), Rs=(0.1, 2, 0.1))\n",
    "display(interactive_plot)"
   ]
  },
  {
   "cell_type": "markdown",
   "metadata": {},
   "source": [
    "##### Question 6:  With this level of noise, how small does the star have to be to reliably detect the transit of an Earth-sized ($R_{p} = 1.0 R_{Earth}$) exoplanet?"
   ]
  }
 ],
 "metadata": {
  "kernelspec": {
   "display_name": "Python 3",
   "language": "python",
   "name": "python3"
  },
  "language_info": {
   "codemirror_mode": {
    "name": "ipython",
    "version": 3
   },
   "file_extension": ".py",
   "mimetype": "text/x-python",
   "name": "python",
   "nbconvert_exporter": "python",
   "pygments_lexer": "ipython3",
   "version": "3.7.2"
  }
 },
 "nbformat": 4,
 "nbformat_minor": 2
}
