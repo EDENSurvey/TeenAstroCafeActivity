{
 "cells": [
  {
   "cell_type": "markdown",
   "metadata": {},
   "source": [
    "# Transit Activity\n",
    "\n",
    "#### By [Dr. Daniel Apai](http://apai.space) and [Dr. Ben Rackham](http://rackham.space)\n",
    "\n",
    "In  this  activity  we  will  explore  how  some  extrasolar  planets  can  be  discovered  and characterized by precisely measuring the brightness of their host stars. When planets pass in front of their host stars (as seen from Earth) they cover part of the host star’s disk — making it look  a  tiny  bit  fainter.  These  events  are  called planetary  transits.  The  slight  dimming  has  a characteristic shape and Project EDEN searches for such events to find the planets that cause them.  NASA’s  Kepler  Space  Observatory  has  used  exoplanet  transit  events  to  identify  over 4,000 new extrasolar planets – the largest bounty of new worlds ever!\n",
    "\n",
    "We will explore how transits can be analyzed — not only to identify the presence of a planet, but  also  to  learn  about  its  basic  properties:  size,  orbital  period,  and  —  with  some  additional information — density and likely composition.\n",
    "\n",
    "## First let’s clarify a few key concepts:\n",
    "\n",
    "**Lightcurve:** a figure that shows the brightness of an object (here the host star) over time. For a typical star, this would be a flat line: the star is always the same brightness.\n",
    "\n",
    "**Transit Event:** an event during which a planet passes in front of its host star (as seen from Earth), blocking a fraction of light from star and causing it to appear dimmer. \n",
    "\n",
    "**Transit Depth:** the maximum brightness difference between the in-transit and out-of-transit brightness of the star.\n",
    "\n",
    "**Ingress:** The first stage of the transit, during which only part of the planet is only obscuring the star.\n",
    "\n",
    "**Egress:** The final stage of the transit, during which only part of the planet is only obscuring the star.\n",
    "\n"
   ]
  },
  {
   "cell_type": "markdown",
   "metadata": {},
   "source": [
    "### Interpreting a Lightcurve with a Transit\n",
    "\n",
    "\n",
    "Check **Figure 1**, estimate the transit depth and identify the ingress/egress stages!\n",
    "\n",
    "\n",
    "\n",
    "**Orbital period:** The orbital period is simply the time that it takes for a planet to complete an orbit. For Earth this is one year, but some planets have much shorter and some planets have much longer orbital periods. Once the orbital period of a planet and the mass of its host star are known, it is possible to calculate what is the radius of its orbit –in other words, how far is it from its host star.\n",
    "How do you think the orbital period can be measured for a transiting planet from its host star’s lightcurve?\n",
    "\n",
    "## The Size of a Planet \n",
    "\n",
    "The larger the planet the larger fraction of its host star it can cover. A planet as large as its host star (an unrealistic example) could cover the entire star from view. In reality, most planets are very smaller, compared  to even the smallest stars. Therefore, they only cover part a small fraction of the host star’s disk.\n",
    "\n",
    "Draw a view of a planetary transit as seen from Earth. Use circles to represent the star and the planet. Mark the radius of the star ($R_{*}$) and the radius of the planet ($R_{p}$) on the figure. The mass of the star is $M_{*}$ and the mass of the planet is $M_{p}$.\n",
    "\n",
    "Discuss with your partner which factors influence the transit depth.\n",
    "Which of the following formula may describe best the transit depth and why?\n",
    "\n",
    "A)  $\\tau_{d} = (M_{*}^{2} R_{*}) / (M_{p}^{2} R_{p})$ \n",
    "\n",
    "B)  $\\tau_{d} = R_{*} / R_{p}$ \n",
    "\n",
    "C)  $\\tau_{d} = M_{*} / M_{p}$ \n",
    "\n",
    "D)  $\\tau_{d} = R_{p}^{2} / R_{*}^{2}$ \n",
    "\n",
    "\n",
    "\n",
    "\n",
    "\n",
    "\n",
    "### Getting started\n",
    "\n",
    "Let's start by importing some necessary Python packages."
   ]
  },
  {
   "cell_type": "code",
   "execution_count": 7,
   "metadata": {},
   "outputs": [],
   "source": [
    "# Import some packages for displaying results\n",
    "%matplotlib inline\n",
    "# from IPython.display import display\n",
    "# from ipywidgets import interactive\n",
    "\n",
    "# Import standard Python science packages\n",
    "import astropy.units as u\n",
    "import matplotlib.pyplot as plt\n",
    "plt.style.use('ggplot')\n",
    "import numpy as np\n",
    "\n",
    "# Import the transit modeling package\n",
    "import batman"
   ]
  },
  {
   "cell_type": "markdown",
   "metadata": {},
   "source": [
    "### The Transit of HD209458\n",
    "\n",
    "Now let's simulate the light curve of an actual transiting exoplanet and see if we can determine its size!\n",
    "\n",
    "First, we will define the time points we are interested in."
   ]
  },
  {
   "cell_type": "code",
   "execution_count": 2,
   "metadata": {
    "collapsed": true
   },
   "outputs": [],
   "source": [
    "t = np.linspace(-0.025, 0.025, 100) # Creates an array of 100 points \n",
    "                                    # evenly spaced between -0.025 and 0.025 (arbitrary units)"
   ]
  },
  {
   "cell_type": "markdown",
   "metadata": {},
   "source": [
    "Then we will initialize the transit model and its parameters. The parameters provided below describe the orbit of the planet and its orientation, which affect the exact shape of the transit and how symmetric it is, but not its depth. "
   ]
  },
  {
   "cell_type": "code",
   "execution_count": 3,
   "metadata": {
    "collapsed": true
   },
   "outputs": [],
   "source": [
    "params = batman.TransitParams()\n",
    "params.t0 = 0.                                   #time of inferior conjunction\n",
    "params.per = 1.                                  #orbital period\n",
    "params.rp = ((1.0*u.Rjup)/(1.0*u.Rsun)).si.value #planet radius (in units of stellar radii)\n",
    "params.a = 15.                                   #semi-major axis (in units of stellar radii)\n",
    "params.inc = 87.                                 #orbital inclination (in degrees)\n",
    "params.ecc = 0.                                  #eccentricity\n",
    "params.w = 90.                                   #longitude of periastron (in degrees)\n",
    "params.u = [0.1, 0.3]                            #limb darkening coefficients [u1, u2]\n",
    "params.limb_dark = \"quadratic\"                   #limb darkening model\n",
    "m = batman.TransitModel(params, t)    #initializes model"
   ]
  },
  {
   "cell_type": "markdown",
   "metadata": {},
   "source": [
    "And finally, we will calculate the light curve."
   ]
  },
  {
   "cell_type": "code",
   "execution_count": 4,
   "metadata": {
    "collapsed": true
   },
   "outputs": [],
   "source": [
    "flux = m.light_curve(params)          #calculates light curve"
   ]
  },
  {
   "cell_type": "markdown",
   "metadata": {},
   "source": [
    "Now let's look at the results."
   ]
  },
  {
   "cell_type": "code",
   "execution_count": 5,
   "metadata": {},
   "outputs": [
    {
     "data": {
      "text/plain": [
       "Text(0,0.5,'Star brightness (%)')"
      ]
     },
     "execution_count": 5,
     "metadata": {},
     "output_type": "execute_result"
    },
    {
     "data": {
      "image/png": "[encoded data removed]",
      "text/plain": [
       "<matplotlib.figure.Figure at 0x10c6c5390>"
      ]
     },
     "metadata": {},
     "output_type": "display_data"
    }
   ],
   "source": [
    "plt.plot(t, flux*100, label=None)\n",
    "plt.title(\"Transit of a Hot Jupiter\")\n",
    "# plt.legend(loc=3)\n",
    "plt.xlabel(\"Orbital phase\")\n",
    "plt.ylabel(\"Star brightness (%)\")"
   ]
  },
  {
   "cell_type": "code",
   "execution_count": null,
   "metadata": {
    "collapsed": true
   },
   "outputs": [],
   "source": []
  }
 ],
 "metadata": {
  "kernelspec": {
   "display_name": "Python 3",
   "language": "python",
   "name": "python3"
  },
  "language_info": {
   "codemirror_mode": {
    "name": "ipython",
    "version": 3
   },
   "file_extension": ".py",
   "mimetype": "text/x-python",
   "name": "python",
   "nbconvert_exporter": "python",
   "pygments_lexer": "ipython3",
   "version": "3.6.3"
  }
 },
 "nbformat": 4,
 "nbformat_minor": 2
}
