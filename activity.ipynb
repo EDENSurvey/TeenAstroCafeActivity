{
 "cells": [
  {
   "cell_type": "markdown",
   "metadata": {},
   "source": [
    "![Project EDEN Logo](EDEN.png)\n",
    "\n",
    "<br>\n",
    "<br>\n",
    "<font size='6'><u><b>Lightcurves of Transiting Exoplanets</b></u></font>\n",
    "<br>\n",
    "\n",
    "##### By [Dr. Daniel Apai](http://apai.space) and [Dr. Ben Rackham](http://rackham.space)\n",
    "##### Revised by Andres Jaramillo"
   ]
  },
  {
   "cell_type": "markdown",
   "metadata": {},
   "source": [
    "# Table of Contents\n",
    "\n",
    "* [How to Use This Notebook](#How-to-Use-This-Notebook)\n",
    "* [1. Introduction](#1.-Introduction)\n",
    "* [2. Interpreting a Lightcurve with a Transit](#2.-Interpreting-a-Lightcurve-with-a-Transit)\n",
    "* [3. Determining the Orbital Period](#3.-Determining-the-Orbital-Period)\n",
    "* [4. Determining the Size of a Planet](#4.-Determining-the-Size-of-a-Planet)\n",
    "* [5. The Transit of HD 209458 b](#5.-The-Transit-of-HD-209458-b)\n",
    "* [6. Detecting Transits of Earth-sized Exoplanets](#6.-Detecting-Transits-of-Earth-sized-Exoplanets)\n",
    "___"
   ]
  },
  {
   "cell_type": "markdown",
   "metadata": {},
   "source": [
    "# How to Use This Notebook\n",
    "\n",
    "The webpage you are in is actually an app - much like the ones on your cellphone. This app consists of cells.\n",
    "\n",
    "An *input* cell looks like a light grey box with an `In [ ]:` on its left. Input cells each contain code - instructions to make the computer do something.\n",
    "\n",
    "To activate or select a cell, click anywhere inside of it.\n",
    "\n",
    "<div class='alert alert-info'>\n",
    "    <font size='3'><b>Select the cell below and read its contents.</b></font>\n",
    "</div>"
   ]
  },
  {
   "cell_type": "code",
   "execution_count": 17,
   "metadata": {},
   "outputs": [],
   "source": [
    "# Text that follows a \"#\" is known as a comment.\n",
    "# Comments do not affect your code in any way.\n",
    "# You should always read the comments at the top of each cell you interact with.\n",
    "# Comments will be used to describe what the cell's code is actually doing."
   ]
  },
  {
   "cell_type": "markdown",
   "metadata": {},
   "source": [
    "To execute or run a selected cell, hit `[Shift + Enter]` on your keyboard.\n",
    "\n",
    "<div class='alert alert-info'>\n",
    "    <font size='3'><b>Select the cell below and read its contents. Then, run the cell.</b></font>\n",
    "</div>"
   ]
  },
  {
   "cell_type": "code",
   "execution_count": 18,
   "metadata": {},
   "outputs": [
    {
     "name": "stdout",
     "output_type": "stream",
     "text": [
      "Congrats! You have successfully run your first cell!\n"
     ]
    }
   ],
   "source": [
    "# Text that DOESN'T follow a \"#\" is considered code.\n",
    "# Lines of code are instructions given to your computer.\n",
    "# The line of code below is a \"print\" statement.\n",
    "# A print statement literally prints out the text between its quotes.\n",
    "\n",
    "print(\"Congrats! You have successfully run your first cell!\")"
   ]
  },
  {
   "cell_type": "markdown",
   "metadata": {},
   "source": [
    "Running a cell creates an *output* directly below it. An output can be some text, a graph, an interactive slider, or even nothing at all! For that last case, you know you have run a cell when the `In [ ]:` becomes `In [#]:`, where \"#\" is any number.\n",
    "\n",
    "You can learn more about how Jupyter notebooks work at https://try.jupyter.org/\n",
    "___"
   ]
  },
  {
   "cell_type": "markdown",
   "metadata": {},
   "source": [
    "# 1. Introduction\n",
    "\n",
    "In  this  activity  we  will  explore  how  some  extrasolar  planets  can  be  discovered  and characterized by precisely measuring the brightness of their host stars. When planets pass in front of their host stars (as seen from Earth) they cover part of the host star’s disk — making it look  a  tiny  bit  fainter.  These  events  are  called <font color=\"green\">**planetary  transits**</font>.  The  slight  dimming  has  a characteristic shape and Project EDEN searches for such events to find the planets that cause them.  NASA’s  Kepler  Space  Observatory  has  used  exoplanet  transit  events  to  identify  over 4,000 new extrasolar planets – the largest bounty of new worlds ever!\n",
    "\n",
    "We will explore how transits can be analyzed — not only to identify the presence of a planet, but  also  to  learn  about  its  basic  properties:  size,  orbital  period,  and  —  with  some  additional information — density and likely composition.\n",
    "___"
   ]
  },
  {
   "cell_type": "markdown",
   "metadata": {},
   "source": [
    "## First let’s clarify a few key concepts:\n",
    "\n",
    "<br>\n",
    "<font color=\"green\">\n",
    "\n",
    "**Lightcurve:** a figure that shows the brightness of an object (here the host star) over time. For a typical star, this would be a flat line: the star is always the same brightness.\n",
    "\n",
    "**Transit Event:** an event during which a planet passes in front of its host star (as seen from Earth), blocking a fraction of light from star and causing it to appear dimmer.\n",
    "\n",
    "**Transit Depth:** the maximum brightness difference between the in-transit and out-of-transit brightness of the star.\n",
    "\n",
    "**Ingress:** The first stage of the transit, during which only part of the planet is only obscuring the star.\n",
    "\n",
    "**Egress:** The final stage of the transit, during which only part of the planet is only obscuring the star.\n",
    "    \n",
    "</font>\n",
    "___"
   ]
  },
  {
   "cell_type": "markdown",
   "metadata": {},
   "source": [
    "# 2. Interpreting a Lightcurve with a Transit\n",
    "\n",
    "In this activity, we will use the Python package `batman` to simulate transit lightcurves.\n",
    "\n",
    "Let's start by importing some necessary Python packages.\n",
    "\n",
    "To do so, highlight the cell below and press `Shift+Enter` to run the code. This is also how we will run all following snippets of code throughout this exercise.\n",
    "\n",
    "In each of the code cells below, anything following the the `#` sign is a comment. It is meant to help you read the code, but it is not read by the computer."
   ]
  },
  {
   "cell_type": "code",
   "execution_count": 19,
   "metadata": {},
   "outputs": [],
   "source": [
    "# Import some packages for displaying results\n",
    "%matplotlib inline\n",
    "import matplotlib.pyplot as plt\n",
    "from IPython.display import display\n",
    "from ipywidgets import interactive\n",
    "\n",
    "# Import standard Python science packages\n",
    "import astropy.units as u\n",
    "import numpy as np\n",
    "\n",
    "# Import the transit modeling package\n",
    "import batman"
   ]
  },
  {
   "cell_type": "markdown",
   "metadata": {},
   "source": [
    "Run the cell below to adjust the appearance of the figures we will plot later in this exercise."
   ]
  },
  {
   "cell_type": "code",
   "execution_count": 20,
   "metadata": {},
   "outputs": [],
   "source": [
    "# Set the appearance of the figures\n",
    "plt.style.use('ggplot')\n",
    "plt.rcParams['figure.figsize'] = (12, 8)\n",
    "plt.rcParams['font.size'] = 18"
   ]
  },
  {
   "cell_type": "markdown",
   "metadata": {},
   "source": [
    "To better understand how to use the `batman` package to model transit lightcurves, let's make an example lightcurve of a **hot Jupiter**: a Jupiter-sized exoplanet on a very short orbit.\n",
    "\n",
    "First, we will initialize a `params` object to hold the orbital parameters of our example planet. The parameters provided below describe the orbit of the planet and its orientation, which affect the exact shape of the transit and how symmetric it is."
   ]
  },
  {
   "cell_type": "code",
   "execution_count": 21,
   "metadata": {},
   "outputs": [],
   "source": [
    "params = batman.TransitParams()                  # Creates a new params object\n",
    "params.t0 = 0.                                   # time of inferior conjunction\n",
    "params.per = 3.                                  # orbital period (days)\n",
    "params.rp = ((1.0*u.Rjup)/(1.0*u.Rsun)).si.value # planet radius (in units of stellar radii)\n",
    "params.a = 15.                                   # semi-major axis (in units of stellar radii)\n",
    "params.inc = 87.                                 # orbital inclination (in degrees)\n",
    "params.ecc = 0.                                  # eccentricity\n",
    "params.w = 90.                                   # longitude of periastron (in degrees)\n",
    "params.u = [0.1, 0.1]                            # limb darkening coefficients [u1, u2]\n",
    "params.limb_dark = \"quadratic\"                   # limb darkening model"
   ]
  },
  {
   "cell_type": "markdown",
   "metadata": {},
   "source": [
    "Now let's define the time points we're interested in and generate a model of the transit event."
   ]
  },
  {
   "cell_type": "code",
   "execution_count": 139,
   "metadata": {},
   "outputs": [],
   "source": [
    "time_1 = np.linspace(-0.02, 0.02, 1000)*params.per # Creates an array of 1000 points \n",
    "                                                     # near the transit time\n",
    "model_1 = batman.TransitModel(params, time_1)        # Creates the model"
   ]
  },
  {
   "cell_type": "markdown",
   "metadata": {},
   "source": [
    "And finally, we will calculate the light curve."
   ]
  },
  {
   "cell_type": "code",
   "execution_count": 140,
   "metadata": {},
   "outputs": [],
   "source": [
    "flux_1 = model_1.light_curve(params) # Calculates the light curve"
   ]
  },
  {
   "cell_type": "markdown",
   "metadata": {},
   "source": [
    "Now let's look at the results."
   ]
  },
  {
   "cell_type": "code",
   "execution_count": 146,
   "metadata": {},
   "outputs": [
    {
     "data": {
      "application/vnd.jupyter.widget-view+json": {
       "model_id": "fd71d7d4389342b3b9e67a3fc82d567a",
       "version_major": 2,
       "version_minor": 0
      },
      "text/plain": [
       "interactive(children=(FloatSlider(value=1.3000000000000003, description='Time', max=2.9, min=0.1, step=0.2), O…"
      ]
     },
     "metadata": {},
     "output_type": "display_data"
    }
   ],
   "source": [
    "def example_transit(Time):\n",
    "    # Makes a new figure\n",
    "    fig,ax = plt.subplots(2,1)\n",
    "\n",
    "    r_star,r_planet = 1.0, 0.1\n",
    "    x = 24*(time_1-time_1[0])\n",
    "    \n",
    "    # Compute the planet's current position from the Time\n",
    "    tmid = x[int(len(x)/2)]\n",
    "    tdur = np.ptp(x[flux_1<1.])\n",
    "    position = (Time-tmid)/(tdur/2.)\n",
    "    \n",
    "    star = plt.Circle((0,0), r_star,color='gold')\n",
    "    ax[0].add_artist(star)\n",
    "    planet = plt.Circle((position, 0.35), r_planet, color='black')\n",
    "    ax[0].add_artist(planet)\n",
    "    ax[0].set_xlim(-4*r_star, 4*r_star)\n",
    "    ax[0].set_ylim(-1.2*r_star, 1.2*r_star)\n",
    "    ax[0].axis('off')\n",
    "    ax[0].set_aspect('equal')\n",
    "    ax[0].set_title(\"Move the slider to watch the planet transit the star\")\n",
    "\n",
    "    x = 24*(time_1-time_1[0])\n",
    "    ax[1].plot(x, flux_1,lw=3,c='gold')\n",
    "    ax[1].set_title(\"Observe how the star's brightness changes during the transit:\")\n",
    "    ax[1].scatter(Time,flux_1[np.argmin(np.abs(x-Time))],marker='+',s=100,c='black',zorder=10)\n",
    "    ax[1].set_xlabel(\"Time (hours)\")\n",
    "    ax[1].set_ylabel(\"Star brightness\")\n",
    "    ax[1].set_ylim([0.988,1.002])\n",
    "    ax[1].set_yticklabels(['{:.1%}'.format(xx) for xx in ax[1].get_yticks()])\n",
    "    plt.show()\n",
    "\n",
    "interactive_plot = interactive(example_transit, Time=(.1,2.9,0.2))\n",
    "display(interactive_plot)"
   ]
  },
  {
   "cell_type": "markdown",
   "metadata": {},
   "source": [
    "For Question 1 and all following questions, take a moment to answer the question yourself and then discuss your answer with your partner.\n",
    "\n",
    "<font color=\"blue\" size=4>Question 1: Check Figure 1 above. What is your estimate the transit depth? Approximately how long are the ingress/egress stages?</font>"
   ]
  },
  {
   "cell_type": "markdown",
   "metadata": {},
   "source": [
    "Need help? Recall the definitions from above:\n",
    "    \n",
    "<font color=\"green\">    \n",
    "**Transit Depth:** the maximum brightness difference between the in-transit and out-of-transit brightness of the star. \n",
    "\n",
    "**Ingress:** The first stage of the transit, during which only part of the planet is only obscuring the star.\n",
    "\n",
    "**Egress:** The final stage of the transit, during which only part of the planet is only obscuring the star.\n",
    "</font>\n",
    "\n",
    "____"
   ]
  },
  {
   "cell_type": "markdown",
   "metadata": {},
   "source": [
    "# 3. Determining the Orbital Period\n",
    "\n",
    "The <font color=\"green\">**orbital period**</font> is simply the time that it takes for a planet to complete an orbit. For Earth this is one year, but some planets have much shorter and some planets have much longer orbital periods. Once the orbital period of a planet and the mass of its host star are known, it is possible to calculate the radius of its orbit—in other words, how far is it from its host star.\n",
    "\n",
    "<font color=\"blue\" size=4>Question 2: How do you think the orbital period can be measured for a transiting planet from its host star’s lightcurve?</font>\n",
    "\n",
    "Now let's look at an example of a lightcurve with multiple transits of the same planet.  We'll use the same hot Jupiter parameters as before, but we'll define a new time array, `time_2`, which covers a longer time period so that we can visualize multiple transits."
   ]
  },
  {
   "cell_type": "code",
   "execution_count": 25,
   "metadata": {},
   "outputs": [],
   "source": [
    "time_2 = np.linspace(-2.5, 2.5, 1000)*params.per\n",
    "model_2 = batman.TransitModel(params, time_2)\n",
    "flux_2 = model_2.light_curve(params)"
   ]
  },
  {
   "cell_type": "markdown",
   "metadata": {},
   "source": [
    "Now we'll plot it."
   ]
  },
  {
   "cell_type": "code",
   "execution_count": 63,
   "metadata": {},
   "outputs": [
    {
     "data": {
      "image/png": "[encoded data removed]",
      "text/plain": [
       "<Figure size 864x576 with 1 Axes>"
      ]
     },
     "metadata": {},
     "output_type": "display_data"
    }
   ],
   "source": [
    "plt.figure()\n",
    "plt.plot(time_2-time_2[0], flux_2)\n",
    "plt.title(\"Figure 2: Multiple Transits of a Hot Jupiter\")\n",
    "plt.xlabel(\"Time (days)\")\n",
    "plt.ylabel(\"Star brightness\")\n",
    "plt.gca().set_yticklabels(['{:.1%}'.format(xx) for xx in plt.gca().get_yticks()])\n",
    "plt.show()"
   ]
  },
  {
   "cell_type": "markdown",
   "metadata": {},
   "source": [
    "Now let's take a look at what transit lightcurves look like for planets with different orbital periods.\n",
    "\n",
    "Run the code in the cell below to generate an interactive version of the transit model."
   ]
  },
  {
   "cell_type": "code",
   "execution_count": 52,
   "metadata": {},
   "outputs": [
    {
     "name": "stdout",
     "output_type": "stream",
     "text": [
      "Using the slider below, vary the orbital period (in units of days):\n"
     ]
    },
    {
     "data": {
      "application/vnd.jupyter.widget-view+json": {
       "model_id": "76c6bf05528749ee8ac6dd8bf08835c7",
       "version_major": 2,
       "version_minor": 0
      },
      "text/plain": [
       "interactive(children=(FloatSlider(value=2.5, description='period', max=5.0, min=0.5, step=0.5), Output()), _do…"
      ]
     },
     "metadata": {},
     "output_type": "display_data"
    }
   ],
   "source": [
    "def transit_model_1(period):\n",
    "    \"\"\"\n",
    "    Function for interactive transit modeling\n",
    "    \"\"\"\n",
    "    # Parameters of planet model\n",
    "    params = batman.TransitParams()\n",
    "    params.t0 = 0.                                     # time of inferior conjunction\n",
    "    params.per = period                                # orbital period (days)\n",
    "    params.rp = ((1.0*u.Rjup)/(1.203*u.Rsun)).si.value # planet radius (in units of stellar radii)\n",
    "    params.a = 15.                                     # semi-major axis (in units of stellar radii)\n",
    "    params.inc = 87.                                   # orbital inclination (in degrees)\n",
    "    params.ecc = 0.                                    # eccentricity\n",
    "    params.w = 90.                                     # longitude of periastron (in degrees)\n",
    "    params.u = [0.1, 0.1]                              # limb darkening coefficients [u1, u2]\n",
    "    params.limb_dark = \"quadratic\"                     # limb darkening model\n",
    "\n",
    "    # Defining the timeframe and calculating flux\n",
    "    time = np.linspace(-1, 1, 10000)*6        # Creates an array of 10000 points \n",
    "                                              # over a roughly 12-day period\n",
    "    model = batman.TransitModel(params, time)\n",
    "    flux_model = model.light_curve(params)\n",
    "    \n",
    "    # Plotting results\n",
    "    plt.figure()\n",
    "    plt.plot(time-time[0], flux_model, 'r-')\n",
    "    plt.title(\"Figure 3: Multiple Transits of a Hot Jupiter with a {:0.1f}-day Period\".format(params.per))\n",
    "    plt.xlabel(\"Time (days)\")\n",
    "    plt.ylabel(\"Star brightness\")\n",
    "    plt.gca().set_yticklabels(['{:.1%}'.format(xx) for xx in plt.gca().get_yticks()])\n",
    "    plt.show()\n",
    "\n",
    "print('Using the slider below, vary the orbital period (in units of days):')\n",
    "interactive_plot = interactive(transit_model_1, period=(0.5, 5, 0.5))\n",
    "display(interactive_plot)"
   ]
  },
  {
   "cell_type": "markdown",
   "metadata": {
    "collapsed": true
   },
   "source": [
    "<font color=\"blue\" size=4>Question 3: Which of the following statements are true for a 1.90-day period (Earth day) hot Jupiter during a 12-day-long observation?</font>\n",
    "\n",
    "**A)** Seven local years have passed on this planet.\n",
    "\n",
    "**B)** Six local years have passed on this planet.\n",
    "\n",
    "**C)** Fourteen local years have passed on this planet.\n",
    "\n",
    "**D)** Twelve local years have passed on this planet.\n",
    "\n",
    "___\n",
    "\n",
    "\n",
    "<font color=\"red\" size=3>*When you reach this point, wait for further instructions.*</font>\n",
    "\n",
    "___"
   ]
  },
  {
   "cell_type": "markdown",
   "metadata": {},
   "source": [
    "# 4. Determining the Size of a Planet\n",
    "\n",
    "The larger the planet the larger the fraction of its host star that it can cover. A planet as large as its host star (an unrealistic example) could cover the entire star from view. In reality, most planets are very smaller, compared  to even the smallest stars. Therefore, they only cover part a small fraction of the host star’s disk.\n",
    "\n",
    "Run the code below to draw a view of a planetary transit as seen from Earth."
   ]
  },
  {
   "cell_type": "code",
   "execution_count": 75,
   "metadata": {},
   "outputs": [
    {
     "data": {
      "image/png": "[encoded data removed]",
      "text/plain": [
       "<Figure size 576x576 with 1 Axes>"
      ]
     },
     "metadata": {},
     "output_type": "display_data"
    }
   ],
   "source": [
    "# Planet and star parameters\n",
    "m_planet = 0.01\n",
    "m_star = 1.\n",
    "r_planet = 0.2\n",
    "r_star = 1.\n",
    "\n",
    "# Plotting values\n",
    "fig, ax = plt.subplots(figsize=(8, 8))\n",
    "star = plt.Circle((0,0), r_star,color='gold')\n",
    "ax.add_artist(star)\n",
    "ax.plot([0, r_star], [0, 0], 'k-')\n",
    "ax.text(r_star/2., 0, '$R_{s}$', va='top', ha='center')\n",
    "planet = plt.Circle((-0.35, 0.35), r_planet, color='black')\n",
    "ax.add_artist(planet)\n",
    "ax.plot([-0.35, -0.35+r_planet], [0.35, 0.35], 'k-')\n",
    "ax.text(-0.35+r_planet/2., 0.35, '$R_{p}$', va='top', ha='center')\n",
    "ax.set_xlim(-r_star, r_star)\n",
    "ax.set_ylim(-r_star, r_star)\n",
    "plt.axis('off')\n",
    "plt.show()"
   ]
  },
  {
   "cell_type": "markdown",
   "metadata": {},
   "source": [
    "The circles represent the star and the planet. The radius of the star ($R_{*}$) and the radius of the planet ($R_{p}$) are shown on the figure. The mass of the star is $M_{*}$ and the mass of the planet is $M_{p}$.\n",
    "\n",
    "*Modify the code above and re-run the cell to plot results for different values of `m_planet`, `m_star`, `r_planet`, and `r_star`.*\n",
    "\n",
    "*Discuss with your partner which factors influence the transit depth.*\n",
    "\n",
    "<font color=\"blue\" size=4>Question 4: Which of the following formulae may describe best the transit depth and why?</font>\n",
    "\n",
    "**A)**  $D = (M_{*}^{2} R_{*}) / (M_{p}^{2} R_{p})$\n",
    "\n",
    "**B)**  $D = R_{*} / R_{p}$\n",
    "\n",
    "**C)**  $D = M_{*} / M_{p}$\n",
    "\n",
    "**D)**  $D = R_{p}^{2} / R_{*}^{2}$"
   ]
  },
  {
   "cell_type": "markdown",
   "metadata": {},
   "source": [
    "Need help? Recall the definition from above:\n",
    "\n",
    "<font color=\"green\">\n",
    "    \n",
    "**Transit Depth:** the maximum brightness difference between the in-transit and out-of-transit brightness of the star.\n",
    "</font>\n",
    "____"
   ]
  },
  {
   "cell_type": "markdown",
   "metadata": {},
   "source": [
    "# 5. The Transit of HD 209458 b\n",
    "\n",
    "Now let's figure out the size of an actual transiting exoplanet!\n",
    "\n",
    "Run the code in the cell below to plot an observed transit lightcurve of the exoplanet HD 209458 b."
   ]
  },
  {
   "cell_type": "code",
   "execution_count": 49,
   "metadata": {},
   "outputs": [
    {
     "data": {
      "image/png": "[encoded data removed]",
      "text/plain": [
       "<Figure size 864x576 with 1 Axes>"
      ]
     },
     "metadata": {},
     "output_type": "display_data"
    }
   ],
   "source": [
    "# Loading observed data\n",
    "time_obs, flux_obs = np.loadtxt('HD209458b.dat', unpack=True)\n",
    "\n",
    "# Convert time from days to hours (easier to read)\n",
    "time_obs = 24*(time_obs-time_obs[0])\n",
    "\n",
    "# Plotting results\n",
    "plt.figure()\n",
    "plt.errorbar(time_obs, flux_obs, 0.001, marker='o', ls='', color='b', label='Observed')\n",
    "plt.title(\"Figure 4: Observations of HD 209458 b\")\n",
    "plt.legend(loc=4)\n",
    "plt.xlabel(\"Time (hours)\")\n",
    "plt.ylabel(\"Star brightness\")\n",
    "plt.gca().set_yticklabels(['{:.1%}'.format(xx) for xx in plt.gca().get_yticks()])\n",
    "plt.show()"
   ]
  },
  {
   "cell_type": "markdown",
   "metadata": {},
   "source": [
    "The lightcurve shows the exoplanet transit, but it also displays scatter due to noise sources that are inherent in any observation.  We will fit different models against these noisy data to make our best estimate of the planet's radius.\n",
    "\n",
    "Run the code in the cell below to generate a new interactive version of the transit model."
   ]
  },
  {
   "cell_type": "code",
   "execution_count": 47,
   "metadata": {},
   "outputs": [
    {
     "name": "stdout",
     "output_type": "stream",
     "text": [
      "Using the slider below, vary the exoplanet radius (in units of Jupiter radii) to find the best model to match the data:\n"
     ]
    },
    {
     "data": {
      "application/vnd.jupyter.widget-view+json": {
       "model_id": "aa7ca81c82704ad5aa2f2da4f9956b43",
       "version_major": 2,
       "version_minor": 0
      },
      "text/plain": [
       "interactive(children=(FloatSlider(value=0.9, description='radius', max=2.0, min=0.1, step=0.2), Output()), _do…"
      ]
     },
     "metadata": {},
     "output_type": "display_data"
    }
   ],
   "source": [
    "def transit_model_2(radius):\n",
    "    \"\"\"\n",
    "    Function for interactive transit modeling\n",
    "    \"\"\"\n",
    "    # Parameters of planet model\n",
    "    rp = ((radius*u.Rjup)/(1.203*u.Rsun)).si.value\n",
    "    params = batman.TransitParams()\n",
    "    params.t0 = 0.                                 # time of inferior conjunction\n",
    "    params.per = 3.                                # orbital period (days)\n",
    "    params.rp =  rp                                # planet radius (in units of stellar radii)\n",
    "    params.a = 15.                                 # semi-major axis (in units of stellar radii)\n",
    "    params.inc = 87.                               # orbital inclination (in degrees)\n",
    "    params.ecc = 0.                                # eccentricity\n",
    "    params.w = 90.                                 # longitude of periastron (in degrees)\n",
    "    params.u = [0.1, 0.1]                          # limb darkening coefficients [u1, u2]\n",
    "    params.limb_dark = \"quadratic\"                 # limb darkening model\n",
    "\n",
    "    # Defining the timeframe and calculating flux\n",
    "    time = np.linspace(-0.025, 0.025, 100)*params.per # Creates an array of 100 points \n",
    "                                                      # near the transit time\n",
    "    model = batman.TransitModel(params, time)            # Initializes model\n",
    "    flux_model = model.light_curve(params)            # Calculates light curve\n",
    "\n",
    "    # Loading observed data\n",
    "    time_obs, flux_obs = np.loadtxt('HD209458b.dat', unpack=True)\n",
    "    \n",
    "    # Convert times to hours (easier to read)\n",
    "    time = 24*(time-time[0])\n",
    "    time_obs = 24*(time_obs-time_obs[0])\n",
    "    \n",
    "    # Plotting results\n",
    "    plt.figure()\n",
    "    plt.errorbar(time_obs, flux_obs, 0.001, marker='o', ls='', color='b', label='Observed')\n",
    "    plt.plot(time, flux_model, 'r-', label='Model')\n",
    "    plt.title(\"Figure 5: HD 209458 b\")\n",
    "    plt.legend(loc=4)\n",
    "    plt.xlabel(\"Time (hours)\")\n",
    "    plt.ylabel(\"Star brightness\")\n",
    "    plt.gca().set_yticklabels(['{:.1%}'.format(xx) for xx in plt.gca().get_yticks()])\n",
    "    plt.show()\n",
    "\n",
    "print('Using the slider below, vary the exoplanet radius (in units of Jupiter radii)' + \n",
    "      ' to find the best model to match the data:')\n",
    "interactive_plot = interactive(transit_model_2, radius=(0.1, 2, 0.2))\n",
    "display(interactive_plot)"
   ]
  },
  {
   "cell_type": "markdown",
   "metadata": {},
   "source": [
    "<font color=\"blue\" size=4>Question 5: What is the best-fit radius for HD 209458 b?</font>\n",
    "___"
   ]
  },
  {
   "cell_type": "markdown",
   "metadata": {
    "collapsed": true
   },
   "source": [
    "# 6. Detecting Transits of Earth-sized Exoplanets\n",
    "\n",
    "In this final exercise, we will explore how we can detect transits of exoplanets the size of Earth.\n",
    "\n",
    "Run the code below to generate an interactive verision of the transit model that will let you vary the both radius of the planet ($R_{p}$) and the radius of the star ($R_{s}$). Each time you change a parameter, it will show you the true transit model and make a new simulated observational dataset."
   ]
  },
  {
   "cell_type": "code",
   "execution_count": 51,
   "metadata": {},
   "outputs": [
    {
     "name": "stdout",
     "output_type": "stream",
     "text": [
      "Using the slider below, vary the exoplanet radius (in units of Earth radii) and the star radius (in units of solar radii):\n"
     ]
    },
    {
     "data": {
      "application/vnd.jupyter.widget-view+json": {
       "model_id": "0a561d3eaa564b169d7ef80fa97282ce",
       "version_major": 2,
       "version_minor": 0
      },
      "text/plain": [
       "interactive(children=(FloatSlider(value=5.0, description='Rp', max=10.0, min=0.5, step=0.5), FloatSlider(value…"
      ]
     },
     "metadata": {},
     "output_type": "display_data"
    }
   ],
   "source": [
    "def transit_model_3(Rp, Rs):\n",
    "    \"\"\"\n",
    "    Function for interactive transit modeling\n",
    "    \"\"\"\n",
    "    # Parameters of planet model\n",
    "    params = batman.TransitParams()\n",
    "    params.t0 = 0.                                   # time of inferior conjunction\n",
    "    params.per = 3.                                  # orbital period (days)\n",
    "    params.rp = ((Rp*u.earthRad)/(Rs*u.Rsun)).si.value # planet radius (in units of stellar radii)\n",
    "    params.a = 15.                              # semi-major axis (in units of stellar radii)\n",
    "    params.inc = 87.                                 # orbital inclination (in degrees)\n",
    "    params.ecc = 0.                                  # eccentricity\n",
    "    params.w = 90.                                   # longitude of periastron (in degrees)\n",
    "    params.u = [0.1, 0.1]                            # limb darkening coefficients [u1, u2]\n",
    "    params.limb_dark = \"quadratic\"                   # limb darkening model\n",
    "\n",
    "    # Defining the timeframe and calculating flux\n",
    "    time = np.linspace(-0.025, 0.025, 100)*params.per # Creates an array of 100 points \n",
    "                                                      # near the transit time\n",
    "    model = batman.TransitModel(params, time)         # Initializes model\n",
    "    flux_model = model.light_curve(params)            # Calculates light curve\n",
    "    noise = np.random.normal(0, 0.001, flux_model.shape)\n",
    "    flux_obs = flux_model + noise\n",
    "\n",
    "    # Convert time to hours\n",
    "    time = 24*(time-time[0])\n",
    "        \n",
    "    # Plotting results\n",
    "    plt.figure()\n",
    "    plt.errorbar(time, flux_obs, 0.001, marker='o', ls='', color='b', label='Observed')\n",
    "    plt.plot(time, flux_model, 'r-', label='Model')\n",
    "    plt.title(\"Figure 6: Transit of a {:0.1f}-Earth-radius planet before a {:0.1f}-Sun-radius star\".format(Rp, Rs))\n",
    "    plt.legend(loc=4)\n",
    "    plt.xlabel(\"Time (days)\")\n",
    "    plt.ylabel(\"Star brightness\")\n",
    "    plt.gca().set_yticklabels(['{:.1%}'.format(xx) for xx in plt.gca().get_yticks()])\n",
    "    plt.show()\n",
    "\n",
    "print('Using the slider below, vary the exoplanet radius (in units of Earth radii)' + \n",
    "      ' and the star radius (in units of solar radii):')\n",
    "interactive_plot = interactive(transit_model_3, Rp=(0.5, 10, 0.5), Rs=(0.1, 2, 0.2))\n",
    "display(interactive_plot)"
   ]
  },
  {
   "cell_type": "markdown",
   "metadata": {},
   "source": [
    "<font color=\"blue\" size=4>Question 6:  With this level of noise, how small does the star have to be to reliably detect the transit of an Earth-sized ($R_{p} = 1.0 R_{Earth}$) exoplanet?</font>\n",
    "___"
   ]
  }
 ],
 "metadata": {
  "kernelspec": {
   "display_name": "Python 3",
   "language": "python",
   "name": "python3"
  },
  "language_info": {
   "codemirror_mode": {
    "name": "ipython",
    "version": 3
   },
   "file_extension": ".py",
   "mimetype": "text/x-python",
   "name": "python",
   "nbconvert_exporter": "python",
   "pygments_lexer": "ipython3",
   "version": "3.6.8"
  }
 },
 "nbformat": 4,
 "nbformat_minor": 2
}
